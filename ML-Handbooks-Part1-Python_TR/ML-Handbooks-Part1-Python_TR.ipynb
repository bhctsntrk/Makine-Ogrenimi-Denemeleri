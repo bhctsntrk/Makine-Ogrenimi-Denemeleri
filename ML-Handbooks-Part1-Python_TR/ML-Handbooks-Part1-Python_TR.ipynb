{
  "cells": [
    {
      "metadata": {
        "_uuid": "6daa4b328c8e3c88e88820da21c719836a185e42"
      },
      "cell_type": "markdown",
      "source": "<img src=\"https://www.python.tc/wp-content/uploads/2017/06/python-programlama.png\" width=\"500\" height=\"500\"/>\n\n# **ML Eğitimleri Part 1 - Temel Python** <a id=\"0\"></a> <br>\n\n## ML Eğitim Serisine Hoşgeldiniz.\n\n**Biliyorum bir çok yerde bu konu ile ilgili bir çok kaynak var ama hem kendime not olması hemde çeşitliliği arttırmak amacı ile bende yazmaya karar verdim.** \n\n#### **İçerik:**\n* 1-[Giriş](#1)\n    * a-[Python Nedir?](#2)\n    * b-[Neden Python?](#3)\n    * c-[Kaggle Hakkında](#4)\n    * d-[Python Kurulumu](#5)\n* 2-[İlk Adımlar](#6)\n    * a-[Print Komutu](#7)\n    * b-[Değişkenler](#8)\n    * c-[Operatörler](#9)\n* 3-[Çok Değişkenli Yapılar](#10)\n    * a-[Lists](#11)\n    * b-[Strings](#12)\n    * c-[Tuples](#13)\n    * d-[Sets](#14)\n    * e-[Dictionaries](#15)\n* 4-[Şartlı Yapılar](#16)\n    * a-[If-Else](#17)\n* 5-[Döngüler](#18)\n    * a-[While](#19)\n    * b-[For](#20)\n* 6-[Fonksiyonlar](#21)\n    * a-[Normal Fonksiyonlar](#22)\n    * b-[Anonim(Lambda) Fonksyionlar](#23)\n* 7-[Modüller](#24)\n    * a-[Modüllerin Kullanımı](#25)\n    * b-[Modül Bulmak ve İndirmek](#26)\n* 8-[Diğer Konular](#27)\n    * a-[List Comprehensions](#28)\n    * b-[OS Modülü](#29)\n"
    },
    {
      "metadata": {
        "_uuid": "6e6f03e42295284fd5d71e66819c8ec38d364a01"
      },
      "cell_type": "markdown",
      "source": "## **1-Giriş** [^](#0) <a id=\"1\"></a> <br>\nSiber Güvenlikten Yapay Zeka'ya bir çok alanda Python'u kullanıyoruz. Gelin daha fazla bakalım.\n\n### **a) Python Nedir?** [^](#0) <a id=\"2\"></a> <br>\nPython genel amaçlı bir yazılım dilidir tıpkı Java ve C++ gibi ama bu dillere göre yazması daha basittir ve bu işe yeni başlayacak olanlar için daha kolaydır. C++'ın aksine Python kodları derlenmez yorumlanır. C++ kodunu derledikten sonra işletim sistemine göre .exe ya da .elf dosyası elde ederiz daha sonra bu dosyaları çalıştırırız. Python'da ise biz Enter tuşuna bastığımız anda ya Run butonuna tıkladığımız anda kodlar çalıştırılır. Herhangi bir .exe dosyası yoktur.\n\n### **b) Neden Python?** [^](#0) <a id=\"3\"></a> <br>\nPython derlenmez yorumlanır ve C++ ya da Java'dan daha yavaş çalışır ancak daha kolaydır. Aşağıda bir kaşılaştırma tablosu mevcut.\n\n|               **C++**              |               **Python**               |\n|:----------------------------------:|:--------------------------------------:|\n|                Hızlı                |                  Yavaş                  |\n|                Zor                |                  Kolay                  |\n|     Kütüphanelere Erişim Zor     |        Kütüphanelere Erişim Kolay        |\n| Derlenir ve .exe Dosyası Oluşur |      Yorumlanır ve .exe/.elf Dosyası Yoktur.        |\n| Topluluk Desteği Azdır | Bilimsel Alanlarda Güçlü Topluluk Desteği Vardır |\n\n**-**\n\nŞimdi de Syntax'larına bakalım. Aşağıda ki iki kod parçasınında amacı ekrana \"Hello, World!\" bastırmak.\n\n**C++**\n```c++\n#include <iostream>\nusing namespace std;\n\nint main() \n{\n    cout << \"Hello, World!\";\n    return 0;\n}\n```\n\n**Python**\n```python\nprint (\"Hello, World!\")\n```\n\nGördüğünüz gibi Python ile dahaz az kod daha çok iş yapabiliyoruz.\n\n### **c) Kaggle Hakkında** [^](#0) <a id=\"4\"></a> <br>\nDaha öncede belirttiğim üzere Python yorumlanır yani bir yorumlayıcı gerekir. Kaggle platformu sayesinde hiç bir şeyi bilgisayarımıza kurmadan online ortamda yine Kaggle'ın bize ayırdığı CPU ve RAM'i kullanarak kodlarımızı çalıştırabiliyoruz. Ayrıca bir çok ML kütüphanesi ve veriseti hazır olarak geliyor ve indirmemize gerek kalmıyor. Son olarak Kaggle'da bir notebook açtıktan sonra CPU ve RAM durumunu gri bardan takip edebiliyoruz.\n\nEğer Kaggle notebook üzerinde bir kod çalıştırırsak ve şayet kodun bir çıktısı yani output'u varsa bu kodun hemen altında siyah bir kutunun içinde gözükecektir.\n"
    },
    {
      "metadata": {
        "trusted": true,
        "_uuid": "5f4682c43a678937cbf6ce548d30da9ddbf71507"
      },
      "cell_type": "code",
      "source": "print(\"Hello, World!\")",
      "execution_count": 1,
      "outputs": [
        {
          "output_type": "stream",
          "text": "Hello, World!\n",
          "name": "stdout"
        }
      ]
    },
    {
      "metadata": {
        "_uuid": "02536313ca2c2d003214115bd7561fc92188f84c"
      },
      "cell_type": "markdown",
      "source": "Command Line üzerinde ise Python bu şekilde görünüyor. Bu şekilde Python'u bilgisayarımıza kurarak CMD(Windows) ya da Terminal(Linux) üzerinde çalıştırabiliriz.\n\n<img src=\"https://www.thecrazyprogrammer.com/wp-content/uploads/2015/08/Python-Hello-World-Program.png\"/>\n\n### **d) Python Kurulumu** [^](#0) <a id=\"5\"></a> <br>\nDaha öncede belirttiğim üzere Python'u indirmemize gerek yok bunun için Kaggle'ı kullanabiliriz ama yine de offline çalışmak istiyorsak indirebiliriz. Linux dağıtımlarının bir çoğunda zaten yüklü geliyor. İşler Windows için azıcık farklı.\n\n**Linux Dağıtımlarında Python Kurulumu**\n* Debian/Ubuntu -- APT\n```bash\nsudo apt-get install python3\n```\n* Red Hat -- YUM\n```bash\nsudo yum install python3\n```\n* SuSE -- ZYPPER\n```bash\nsudo zypper install python3\n```\n\n**Windows'da Python Kurulumu**\nÖnce [buradan](https://www.anaconda.com/distribution/) Anaconda'yı indirin.\n\nAnaconda Python için bir sanal ortam oluşturacaktır. Bu ortamda Python yorumlayıcısı ve bir çok ML kütüphanesi kullanılabilir durumda olacaktır. Ayrıca Anaconda Navigator isimli Grafik Arayüz Programının kullanımı çok kolaydır. Daha fazlası için [buradan](https://hackernoon.com/installing-python-and-anaconda-on-windows-f9059ba8b136) devan edin."
    },
    {
      "metadata": {
        "_uuid": "c371932fbd110ebf364ce9459f31d394c961bb7c"
      },
      "cell_type": "markdown",
      "source": "## **2-İlk Adımlar** [^](#0) <a id=\"6\"></a> <br>\nKurulumdan sonra artık kodlarımızı yazmaya başlayabiliriz.\n\n### **a) Print Komutu** [^](#0) <a id=\"7\"></a> <br>\nÖncelikle Python iki farklı temel sürümden oluşuyor. Python 2.x.x ve Python 3.x.x . Bu iki sürümde ilk dikkat çeken farklılıklardan biri print komutu. Python 2' de print komutunu kullanırken parantezler kullanmayız çünkü Python 2' de print fonksiyon değil.\n\nPython 2' ye sağlanan destek bir yıl içinde kesileceği için Python 3 kullanacağız."
    },
    {
      "metadata": {
        "trusted": true,
        "_uuid": "2b51e93196d18075a73bfbcbd1cfd1576eeb04f4"
      },
      "cell_type": "code",
      "source": "print(\"Hello, World!\")",
      "execution_count": 2,
      "outputs": [
        {
          "output_type": "stream",
          "text": "Hello, World!\n",
          "name": "stdout"
        }
      ]
    },
    {
      "metadata": {
        "_uuid": "fdd6c0b6b7f0f7cd129548ec08e8fb6e2af42e0b"
      },
      "cell_type": "markdown",
      "source": "Ayrıca çift ya da tek tırnaklar ile sarmalanan her yazı ya da karakter python' da string tipinde veri olarak algılanır ve Kaggle notebook'da kırmızı renge çevrilir.\n\n### **b) Değişkenler** [^](#0) <a id=\"8\"></a> <br>\nYazılım dillerinde değişkenler verileri tutan depolar gibi çalışırlar. Bir çok veri tipi mevcuttur örneğin *int* tam sayılar için kullanılırken *float* ondalıklı sayılar için kullanılır.\n\nEğer C++ ile kod yazıyor olsaydık bu veri tiplerini değişken oluştururken belirtmemiz gerekirdi:\n```c++\nint a = 5;  //Declaring an integer variable in C++\n```\nAncak Python' da veri tipini belirtmemize gerek yoktur:"
    },
    {
      "metadata": {
        "trusted": true,
        "_uuid": "e00f54b210d47522977e99aa99dbe79cf4e95796"
      },
      "cell_type": "code",
      "source": "a = 5\nprint(a) # Integer\n\nb = 5.5\nprint(b) # Float\n\nc = \"Hello!\"\nprint(c) # String",
      "execution_count": 3,
      "outputs": [
        {
          "output_type": "stream",
          "text": "5\n5.5\nHello!\n",
          "name": "stdout"
        }
      ]
    },
    {
      "metadata": {
        "_uuid": "e98cfd5db0fc763f0cf01046184276129f57caed"
      },
      "cell_type": "markdown",
      "source": "Bu arada **#** ile başlayan satırlar Python' da yorum satırları olarak geçer. Komut satırlarının normal kod üzerine herhangi bir etkisi yoktur sadece kodu okuyacak olan insanlar için yazılır ve yorumayıcı yorum satırlanırını dikkate almaz.\n\nBirden fazla satırı da tek seferde yorum haline getirebiliriz, bunun için bize altı adet çift tırnak gerekiyor. Ayrıca buna **Docstring** diyoruz ve dökümantasyon sırasında kullanıyoruz."
    },
    {
      "metadata": {
        "trusted": true,
        "_uuid": "89d65ee829bd8b305ed83b7141e163ddafe671bf"
      },
      "cell_type": "code",
      "source": "\"\"\"Yorum \nSatırları\nDocstring\"\"\"\nprint(a)",
      "execution_count": 4,
      "outputs": [
        {
          "output_type": "stream",
          "text": "5\n",
          "name": "stdout"
        }
      ]
    },
    {
      "metadata": {
        "_uuid": "90a61d46101efa1e14bdee2a99870219d97b0083"
      },
      "cell_type": "markdown",
      "source": "Not olarak değişken isimleri Python' da büyük-küçük harf duyarlıdır."
    },
    {
      "metadata": {
        "trusted": true,
        "_uuid": "276dd7fe08c693c6eec9f0748606e22b74e96387"
      },
      "cell_type": "code",
      "source": "a = 5\nA = 6\nprint(a,A)",
      "execution_count": 5,
      "outputs": [
        {
          "output_type": "stream",
          "text": "5 6\n",
          "name": "stdout"
        }
      ]
    },
    {
      "metadata": {
        "_uuid": "64e540f7b60eb47e868910a0dbdfbad34fc5c403"
      },
      "cell_type": "markdown",
      "source": "Mevcut değişkenlerinin veri tiplerini öğrenmek için **type()** fonksiyonunu kullanabiliriz ayrıca eğer mümkün ise mu değişlkenlerinin tiplerini değiştirebiliriz. Bu işleme casting diyoruz"
    },
    {
      "metadata": {
        "trusted": true,
        "_uuid": "bb01ac9f47b6d4e2a28ec044d59df0281e28542f"
      },
      "cell_type": "code",
      "source": "print(\"a'nın tipi:\", type(a))\nprint(\"b'nin tipi:\", type(b))\n\na = str(a)\nb = int(b)\n\nprint(\"a'nın tipi:\", type(a))\nprint(\"b'nin tipi:\", type(b))",
      "execution_count": 6,
      "outputs": [
        {
          "output_type": "stream",
          "text": "a'nın tipi: <class 'int'>\nb'nin tipi: <class 'float'>\na'nın tipi: <class 'str'>\nb'nin tipi: <class 'int'>\n",
          "name": "stdout"
        }
      ]
    },
    {
      "metadata": {
        "trusted": true,
        "_uuid": "856583c4996ce1e22ad4ca0312b76c578c812faa"
      },
      "cell_type": "markdown",
      "source": "Burda c değişkenini herhangi bir şeye dönüştürmeye çalışmadık çünkü string'i int'e dönüştüremeyiz.\n\n### **c) Operatörler** [^](#0) <a id=\"9\"></a> <br>\nPython' da değişkenleri kullanarak matematiksel işlemler yapabiliriz örneğin:"
    },
    {
      "metadata": {
        "trusted": true,
        "_uuid": "e6a34003c23b4a5548ec2e88656afe5effc0ee88"
      },
      "cell_type": "code",
      "source": "a = 5\nb = 6\nprint(a+b)",
      "execution_count": 7,
      "outputs": [
        {
          "output_type": "stream",
          "text": "11\n",
          "name": "stdout"
        }
      ]
    },
    {
      "metadata": {
        "_uuid": "2f28a54a93c9e843c2b08db674dc70b9871b04fe"
      },
      "cell_type": "markdown",
      "source": "burada **+** operatörünü kullandık. Peki başka hangi operatörler var? Öncelikle listeye bakalım.\n\n| Tipi          | Operatör | İsmi          |\n|---------------|----------|---------------|\n| Aritmetik     | +        | Toplama       |\n| Aritmetik     | -        | Çıkartma      |\n| Aritmetik     | *        | Çarpma        |\n| Aritmetik     | /        | Bölme         |\n| Aritmetik     | %        | Modülasyon    |\n| Aritmetik     | **       | Üs            |\n| Atama         | =        |               |\n| Karşılaştırma | ==       | Eşittir       |\n| Karşılaştırma | !=       | Eşit Değildir |\n| Karşılaştırma | >        | Büyüktür      |\n| Karşılaştırma | <        | Küçüktür      |\n| Karşılaştırma | >=       | Büyük eşittir |\n| Karşılaştırma | <=       | Küçük eşittir |\n| Mantıksal |  and      | Ve          |\n| Mantıksal |  or       | Veya        |\n| Mantıksal |  not        | Değil       |\n| Üye       | in       | Üyesi       |\n| Üye       | not in   | Üyesi Değil |\n\n**-**\n\nAritmetik operatörler ile başlayalım bu opreatörler ile temel matematiksel işlemleri yapabiliriz."
    },
    {
      "metadata": {
        "trusted": true,
        "_uuid": "b7e060c93740f4d32b229e59244cba1403f4c061"
      },
      "cell_type": "code",
      "source": "a = 5\nb = 3\n\nprint(\"a + b =\", a + b)\nprint(\"a - b =\", a - b)\nprint(\"a * b =\", a * b)\nprint(\"a / b =\", a / b)\nprint(\"a % b =\", a % b)\nprint(\"a ** b =\", a ** b)",
      "execution_count": 8,
      "outputs": [
        {
          "output_type": "stream",
          "text": "a + b = 8\na - b = 2\na * b = 15\na / b = 1.6666666666666667\na % b = 2\na ** b = 125\n",
          "name": "stdout"
        }
      ]
    },
    {
      "metadata": {
        "_uuid": "92268013f5e71e82ef4f8e490857814acfc0b82b"
      },
      "cell_type": "markdown",
      "source": "Atama operatörü olarak bahsettiğimiz **=** ise tahmin edecebileceğiniz gibi bir değişkene veri atarken kullanılıyor. Atama operatörünü diğer bazı operatörler ile birlikte kullanabiliyoruz."
    },
    {
      "metadata": {
        "trusted": true,
        "_uuid": "00bb269560e9f53e7af881886c1d68f896e82fd1"
      },
      "cell_type": "code",
      "source": "a = 5\nb = 7\n\na += b # a = a + b\nb **= 2 # b = b**2\n\nprint(a)\nprint(b)",
      "execution_count": 9,
      "outputs": [
        {
          "output_type": "stream",
          "text": "12\n49\n",
          "name": "stdout"
        }
      ]
    },
    {
      "metadata": {
        "_uuid": "79069f69f457201f3ce8d0d4962a40fcc063c0f2"
      },
      "cell_type": "markdown",
      "source": "Karşılaştırma operatörleri ise sayıları birbirleri ile karşılaştırmak için kullanılıyor. Sonuç olarak ise diğer operatörlerden farklı olarak **True** ya da **False** döndürüyorlar."
    },
    {
      "metadata": {
        "trusted": true,
        "_uuid": "c09e5aef720b3bfc0ec81bdf5eba7c421e61e80c"
      },
      "cell_type": "code",
      "source": "a = 5\nb = 5\n\nprint(a == b) # a b'ye eşittir.\nprint(a >= b) # a b'ye eşittir veya büyüktür.\nprint(a != b) # a b'den farklıdır.",
      "execution_count": 10,
      "outputs": [
        {
          "output_type": "stream",
          "text": "True\nTrue\nFalse\n",
          "name": "stdout"
        }
      ]
    },
    {
      "metadata": {
        "_uuid": "316d559fb215e3874ef72ed9974f081632d47772"
      },
      "cell_type": "markdown",
      "source": "Mantıksal operatörler ile mantıksal işlemleri yapabiliriz. Bu operatörleri genelde **if else** yani şartlı yapılar bölümünde kullanıyoruz. **if else** bölümünü de yakında göreceğiz."
    },
    {
      "metadata": {
        "trusted": true,
        "_uuid": "40ab1aa0ba0d9f446c771394ff4cd93337905398"
      },
      "cell_type": "code",
      "source": "a = 6\nb = 6\nc = 2\nprint(a == b or c == 5)\nprint(a == b and c == 3)",
      "execution_count": 11,
      "outputs": [
        {
          "output_type": "stream",
          "text": "True\nFalse\n",
          "name": "stdout"
        }
      ]
    },
    {
      "metadata": {
        "_uuid": "ce368e78ca8e81489eda1b20302ba9d05b5e7a1d"
      },
      "cell_type": "markdown",
      "source": "Son olarak üyelik operatörleri ise yine ileride göreceğimiz **list** ya da **tuple** konusu ile ilgili. Kısaca anlatmak gerekirse list birden fazla değişkenin tek bir değişken içerisinde tutulması oluyor. Örneğin string olarak bahsettiğimiz veri tip aslında karakter değişkenlerinin oluşturduğu bir liste. Örneğe bakalım."
    },
    {
      "metadata": {
        "trusted": true,
        "_uuid": "a799e5b06e91c05883dde37906fe5c2ba312dea0"
      },
      "cell_type": "code",
      "source": "print(\"alp\" in \"alpha\")\nprint(\"b\" in \"alpha\")",
      "execution_count": 12,
      "outputs": [
        {
          "output_type": "stream",
          "text": "True\nFalse\n",
          "name": "stdout"
        }
      ]
    },
    {
      "metadata": {
        "_uuid": "1e8c616d1101a808e27f9534be8224c8049e681a"
      },
      "cell_type": "markdown",
      "source": "Bir kaç operatör dışında Python'da ki tüm operatörlerden bahsettik. Bu operatörler ML kullanırken başlangıç için yeterli olacaktır.\n\n## **3-Çok Değişkenli Yapılar** [^](#0) <a id=\"10\"></a> <br>\nBu bölümde içerisinde birden fazla değişken içeren özel değişken yapılarına göz atacağız.\n\n### **a) Lists** [^](#0) <a id=\"11\"></a> <br>\nLists yani listeler çok değişken tutan yapılardan en temelidir. C++' da array yapılarına benzetilebilir. Köşeli parantezler kullanılarak tanımlanır. Liste'lerin kendilerine özel fonksyionları vardır."
    },
    {
      "metadata": {
        "trusted": true,
        "_uuid": "8aa52699573dd1ec144676a09f2dd506c7382153"
      },
      "cell_type": "code",
      "source": "liste = [\"Alpha\", \"Gamma\", \"Delta\"]\nprint(liste)",
      "execution_count": 13,
      "outputs": [
        {
          "output_type": "stream",
          "text": "['Alpha', 'Gamma', 'Delta']\n",
          "name": "stdout"
        }
      ]
    },
    {
      "metadata": {
        "_uuid": "c692d5e7837d0dd874cf6b18b659ef200cf3ebaa"
      },
      "cell_type": "markdown",
      "source": "1. Liste içerisinde her bir değişkenin bir sırası yani index'i vardır. Bu sıra tıpkı C++ array'leri gibi 0' dan başlar. Biz bu sıra numarasını kullanarak direk bir elemana erişebiliriz ve istersek onu değiştirebiliriz."
    },
    {
      "metadata": {
        "trusted": true,
        "_uuid": "373d471f6398db4017650da99eab98d830015679"
      },
      "cell_type": "code",
      "source": "print(liste[0])",
      "execution_count": 14,
      "outputs": [
        {
          "output_type": "stream",
          "text": "Alpha\n",
          "name": "stdout"
        }
      ]
    },
    {
      "metadata": {
        "trusted": true,
        "_uuid": "61f25a5d471d44230bf96c33798211b45be10d3f"
      },
      "cell_type": "code",
      "source": "liste[0] = \"Omega\"\nprint(liste)",
      "execution_count": 15,
      "outputs": [
        {
          "output_type": "stream",
          "text": "['Omega', 'Gamma', 'Delta']\n",
          "name": "stdout"
        }
      ]
    },
    {
      "metadata": {
        "_uuid": "358520f25a9ad01801737652ca017f093c1fe1fc"
      },
      "cell_type": "markdown",
      "source": "Listeler ile kullanabileceğimiz fonksiyonlara geçecek olursak ilk başlamamız gereken ve sık kullanılan **len()** fonksyionu olur. "
    },
    {
      "metadata": {
        "trusted": true,
        "_uuid": "ca5334a3dd8da3fa1720ddae5c67dfba3f3cdd11"
      },
      "cell_type": "code",
      "source": "print(len(liste))",
      "execution_count": 16,
      "outputs": [
        {
          "output_type": "stream",
          "text": "3\n",
          "name": "stdout"
        }
      ]
    },
    {
      "metadata": {
        "_uuid": "97af64b330658e525c16d37982de4cd3e349de0c"
      },
      "cell_type": "markdown",
      "source": "Python'da bir objeye ait fonksiyonları çağırmak için objenin sonuna **.** koyar sonra fonksyion ismini yazarız. **len()**'i bu şekilde kullanmadığımızdan anlaşılacaktır ki **len()** listelere özel fonksiyon değildir.\n\n**type()**, **len()** gibi başka fonksiyonlara listeyi parametre olarak gönderebiliriz. Parametre ve fonksyion konusuna ayrıntılı bakacağız.\n\nListelere ait fonksiyonlara bakacak olursa en çok kullanılanlardan biri **append()** fonksiyonu olur. Append ile listenin sonuna eleman ekleyebiliriz."
    },
    {
      "metadata": {
        "trusted": true,
        "_uuid": "32186a0fbec9403ab843ae1ea631a46451672fa1"
      },
      "cell_type": "code",
      "source": "liste.append(\"Alpha\")\nprint(liste)",
      "execution_count": 17,
      "outputs": [
        {
          "output_type": "stream",
          "text": "['Omega', 'Gamma', 'Delta', 'Alpha']\n",
          "name": "stdout"
        }
      ]
    },
    {
      "metadata": {
        "_uuid": "ac7a79a22c7a79b3700bf11e798724b8d8800c0f"
      },
      "cell_type": "markdown",
      "source": "Listenin istediğimiz herhangi bir yerine eleman eklemek için **insert()** fonksiyonunu kullanabiliriz."
    },
    {
      "metadata": {
        "trusted": true,
        "_uuid": "36cf892b36101cd5e3868f746c5fc7ad4b7e00f0"
      },
      "cell_type": "code",
      "source": "liste.insert(2, \"Epsilon\")\nprint(liste)",
      "execution_count": 18,
      "outputs": [
        {
          "output_type": "stream",
          "text": "['Omega', 'Gamma', 'Epsilon', 'Delta', 'Alpha']\n",
          "name": "stdout"
        }
      ]
    },
    {
      "metadata": {
        "_uuid": "79bc6c7aacc95493763e07f463e133c92c6a9a4e"
      },
      "cell_type": "markdown",
      "source": "Eleman silmek için **remove()**' u kullanabiliriz."
    },
    {
      "metadata": {
        "trusted": true,
        "_uuid": "e6112acea57ddc3cfda4a49071a5093ee902d779"
      },
      "cell_type": "code",
      "source": "liste.remove(\"Delta\")\nprint(liste)",
      "execution_count": 19,
      "outputs": [
        {
          "output_type": "stream",
          "text": "['Omega', 'Gamma', 'Epsilon', 'Alpha']\n",
          "name": "stdout"
        }
      ]
    },
    {
      "metadata": {
        "_uuid": "b4d072ad45abb49126c8e042369ccebe25cfc038"
      },
      "cell_type": "markdown",
      "source": "Son olarak sıralamak için **sort()**' u kullanabiliriz."
    },
    {
      "metadata": {
        "trusted": true,
        "_uuid": "efdf353438b5d09fa374c98d2b3cbcbe404c5004"
      },
      "cell_type": "code",
      "source": "liste.sort()\nprint(liste)",
      "execution_count": 20,
      "outputs": [
        {
          "output_type": "stream",
          "text": "['Alpha', 'Epsilon', 'Gamma', 'Omega']\n",
          "name": "stdout"
        }
      ]
    },
    {
      "metadata": {
        "_uuid": "071ab25469641ec0866add5a58cbb6ca793640f7"
      },
      "cell_type": "markdown",
      "source": "Listeler daha fazla fonksiyona sahip olsada ML için bunlar işimize fazlasıyla yeterli.\n\nListeleri bitirmeden önce son olarak bakmamız gereken konu listeleri bölmek. İndex numaraları ile tek tek elemanlara eriştiğimiz gibi birden fazla elemanada erişebiliriz.\n\nBunun için köşeli parantezler içerisinde ki lokasyon yapısına **:** ekliyoruz. Aşağıda görünen örnekte 0. index ile başla ve 2.index'e kadar(dahil değil) al(döndür) denilmiş."
    },
    {
      "metadata": {
        "trusted": true,
        "_uuid": "cad253b579ce11ac7898988f39040169a2678da8"
      },
      "cell_type": "code",
      "source": "print(liste)\nprint(liste[0:2])",
      "execution_count": 21,
      "outputs": [
        {
          "output_type": "stream",
          "text": "['Alpha', 'Epsilon', 'Gamma', 'Omega']\n['Alpha', 'Epsilon']\n",
          "name": "stdout"
        }
      ]
    },
    {
      "metadata": {
        "_uuid": "46ca0fc0e154ec88121386cb4d18b2b8a5bbe85e"
      },
      "cell_type": "markdown",
      "source": "1. index ile başla son elemana kadar git demek için ise şöyle yapabiliyoruz."
    },
    {
      "metadata": {
        "trusted": true,
        "_uuid": "aeae0af7bc90b4a013454a71d248fe10bbd0fc9f"
      },
      "cell_type": "code",
      "source": "print(liste[1:])",
      "execution_count": 22,
      "outputs": [
        {
          "output_type": "stream",
          "text": "['Epsilon', 'Gamma', 'Omega']\n",
          "name": "stdout"
        }
      ]
    },
    {
      "metadata": {
        "_uuid": "d98d8da20dc2b1b81a28a62b061045d5fb442518"
      },
      "cell_type": "markdown",
      "source": "Son olarak belirli bir örüntüde eleman atlayarakda listede ki elemanlara erişebiliriz. Bunun için bir adet **:** daha gerekmekte. İkinci **:**' dan sonra atlama sayısını belirtebiliriz. Aşağıda ki örnekte görüldüğü üzere 1. index ile başlanıp 5. indexe kadar elemanlar döndürülmüş ancak liste 2şer 2şer gezlmiş."
    },
    {
      "metadata": {
        "trusted": true,
        "_uuid": "4f2a11ffadb3304c0bf0c80c7c5b1ea9586a52f5"
      },
      "cell_type": "code",
      "source": "liste.append(\"Theta\")\nprint(liste)\nprint(liste[1:5:2])",
      "execution_count": 23,
      "outputs": [
        {
          "output_type": "stream",
          "text": "['Alpha', 'Epsilon', 'Gamma', 'Omega', 'Theta']\n['Epsilon', 'Omega']\n",
          "name": "stdout"
        }
      ]
    },
    {
      "metadata": {
        "_uuid": "4e0d13493de646a5a44a5f5e0e936949a84e887e"
      },
      "cell_type": "markdown",
      "source": "### **b) Strings** [^](#0) <a id=\"12\"></a> <br>\nListelerin özel bir hali olan Strings aslında karakterlerden oluşan kelimeleri hatta cümleleri depolayabilmek için kullanılan bir veri yapısı. C++' da bulunan Strings'lere benzer bir yapı. Listelerin aksine köşeli parantez ile tırnak işaretleri ile tanımladığımız Stringler de listelerin çoğu fonksyionunu kullanabiliyoruz."
    },
    {
      "metadata": {
        "trusted": true,
        "_uuid": "69a5bd15d5b92bc51a8421c85896d61e8bdd5ef1"
      },
      "cell_type": "code",
      "source": "a = \"Hello, World!\"\nprint(type(a))\nprint(a[0])\nprint(len(a))",
      "execution_count": 24,
      "outputs": [
        {
          "output_type": "stream",
          "text": "<class 'str'>\nH\n13\n",
          "name": "stdout"
        }
      ]
    },
    {
      "metadata": {
        "_uuid": "78bc331dd9a5c77c6ee415c5d012d4ac9eee21a1"
      },
      "cell_type": "markdown",
      "source": "Stringlerin listelere ek olarak tüm elemanlarını büyük ya da küçük harfe döndürebilmemize olanak sağlayan **lower()** ya da **upper()** gibi fonksiyonları bulunuyor."
    },
    {
      "metadata": {
        "trusted": true,
        "_uuid": "e7f7d5998c839e5bb47233eb6ff75fe0b02957cd"
      },
      "cell_type": "code",
      "source": "print(a.lower())",
      "execution_count": 25,
      "outputs": [
        {
          "output_type": "stream",
          "text": "hello, world!\n",
          "name": "stdout"
        }
      ]
    },
    {
      "metadata": {
        "_uuid": "53102956da7b6a662b13469dd7c3b4f3c6bf46c8"
      },
      "cell_type": "markdown",
      "source": "Stringler üzerinde **replace()** metodu ile belirli bir karakteri ya da karakterleri başka bir karakter ya da karakterler ile değiştirebiliyoruz."
    },
    {
      "metadata": {
        "trusted": true,
        "_uuid": "ffe02487441cfc252a9b6b1feb01696d87021eae"
      },
      "cell_type": "code",
      "source": "print(a.replace('World', 'Sekai'))",
      "execution_count": 26,
      "outputs": [
        {
          "output_type": "stream",
          "text": "Hello, Sekai!\n",
          "name": "stdout"
        }
      ]
    },
    {
      "metadata": {
        "_uuid": "be7224895b6808458e06423ed802754b9f7c73ec"
      },
      "cell_type": "markdown",
      "source": "Stringleri listelerde olduğu gibi bölebiliyoruz."
    },
    {
      "metadata": {
        "trusted": true,
        "_uuid": "a4267c7a36bf84f2ff24545669f9c43fb5a7504c"
      },
      "cell_type": "code",
      "source": "print(a[0:9])\nprint(a[2:11:3])",
      "execution_count": 27,
      "outputs": [
        {
          "output_type": "stream",
          "text": "Hello, Wo\nl,o\n",
          "name": "stdout"
        }
      ]
    },
    {
      "metadata": {
        "_uuid": "4b243498f0a0aeca7f89d3cacaed259f01849202"
      },
      "cell_type": "markdown",
      "source": "Stringleri ayrıca **split()** isimli özel bir fonksyion ile belirli karakterlere görede bölebiliyoruz. Bu örnekte **,**' ü kullanarak böleceğiz ve iki parçayı iki farklı değişkene atayacağız."
    },
    {
      "metadata": {
        "trusted": true,
        "_uuid": "3191dee5e89a59b4325aa522dfb7b5aa13cab823"
      },
      "cell_type": "code",
      "source": "part1, part2 = a.split(',')\nprint(part1)\nprint(part2)",
      "execution_count": 28,
      "outputs": [
        {
          "output_type": "stream",
          "text": "Hello\n World!\n",
          "name": "stdout"
        }
      ]
    },
    {
      "metadata": {
        "_uuid": "676c86f010a90fe5dedef4345dba1937dbb3bb77"
      },
      "cell_type": "markdown",
      "source": "Şimdide **o** karakterine göre bölelim."
    },
    {
      "metadata": {
        "trusted": true,
        "_uuid": "f581104f017248d8dfcf7093cd5fdbf33be389dc"
      },
      "cell_type": "code",
      "source": "print(a.split('o'))\nx, y, z = a.split('o')\nprint(x)\nprint(y)\nprint(z)",
      "execution_count": 29,
      "outputs": [
        {
          "output_type": "stream",
          "text": "['Hell', ', W', 'rld!']\nHell\n, W\nrld!\n",
          "name": "stdout"
        }
      ]
    },
    {
      "metadata": {
        "_uuid": "5130447ac2ba5119fceb9b259a1b589d4403b46a"
      },
      "cell_type": "markdown",
      "source": "Son olarak Stringler ile **+** operatörü ile stringleri birbirlerine ekleyebiliriz."
    },
    {
      "metadata": {
        "trusted": true,
        "_uuid": "f5baac94e3e99c577a557b0c95868c2e3f090ee0"
      },
      "cell_type": "code",
      "source": "var = \"Narita\"\nprint(\"Burası \"+var+\" şehridir.\")",
      "execution_count": 30,
      "outputs": [
        {
          "output_type": "stream",
          "text": "Burası Narita şehridir.\n",
          "name": "stdout"
        }
      ]
    },
    {
      "metadata": {
        "_uuid": "dc136b8864507bcdab8667f16c7d8d0da5b1a651"
      },
      "cell_type": "markdown",
      "source": "### **c) Tuples** [^](#0) <a id=\"13\"></a> <br>\nPython da tuple'lar listelere benzerler ancak sonradan değiştirilemezler. Normal parantezleri ile tanımlanırlar."
    },
    {
      "metadata": {
        "trusted": true,
        "_uuid": "3f6360ea2a84517ed24bf02c218bd8fcf0af2332"
      },
      "cell_type": "code",
      "source": "tupleA = (\"Alpha\", \"Bravo\", \"Charlie\")\nprint(tupleA)",
      "execution_count": 31,
      "outputs": [
        {
          "output_type": "stream",
          "text": "('Alpha', 'Bravo', 'Charlie')\n",
          "name": "stdout"
        }
      ]
    },
    {
      "metadata": {
        "_uuid": "98d30900af26ac3ca79bb64aa92655a841651cd8"
      },
      "cell_type": "markdown",
      "source": "Listelerde ki gibi index numaraları ile içinde ki şeylere erişebiliriz."
    },
    {
      "metadata": {
        "trusted": true,
        "_uuid": "2b16fe13e121710a8ce93a9c705cc80f0f732982"
      },
      "cell_type": "code",
      "source": "print(tupleA[1])",
      "execution_count": 32,
      "outputs": [
        {
          "output_type": "stream",
          "text": "Bravo\n",
          "name": "stdout"
        }
      ]
    },
    {
      "metadata": {
        "_uuid": "d7d4f59ec7079bcf29bd83dcc7925464000b8659"
      },
      "cell_type": "markdown",
      "source": "### **d) Sets** [^](#0) <a id=\"14\"></a> <br>\nSets yani kümeler listlere benzer ancak index numaraları yoktur ve süslü parantezler ile ifade edilirler. En önemli özellikleri ise bir elemandan bir set içinde iki tane olamaz."
    },
    {
      "metadata": {
        "trusted": true,
        "_uuid": "c1167336e56de4bccbb8ec16469b23b4b8629934"
      },
      "cell_type": "code",
      "source": "küme = {\"Quadra\", \"Double\", \"Triple\"}\nprint(küme)",
      "execution_count": 33,
      "outputs": [
        {
          "output_type": "stream",
          "text": "{'Quadra', 'Triple', 'Double'}\n",
          "name": "stdout"
        }
      ]
    },
    {
      "metadata": {
        "_uuid": "78779fc660bb6416e1fc6ed8da17388d573ebc48"
      },
      "cell_type": "markdown",
      "source": "Kümelere **add()** fonksiyonu ile eleman eklenebilir."
    },
    {
      "metadata": {
        "trusted": true,
        "_uuid": "1228ddb370f88499d3ae2eecaec210c7bc750773"
      },
      "cell_type": "code",
      "source": "küme.add(\"Hexa\")\nprint(küme)",
      "execution_count": 34,
      "outputs": [
        {
          "output_type": "stream",
          "text": "{'Hexa', 'Quadra', 'Triple', 'Double'}\n",
          "name": "stdout"
        }
      ]
    },
    {
      "metadata": {
        "_uuid": "114164dd3292876d65f409647d4025106e5b3fce"
      },
      "cell_type": "markdown",
      "source": "### **e) Dictionaries** [^](#0) <a id=\"15\"></a> <br>\nDictionaries yani sözlükler bu başlık altında şuana kadar gördüğümüz diğer veri tiplerinden biraz daha farklı ve özel bir veri tipini oluşturuyorlar. Değiştirilebilirler ve süslü parantezler ile ifade edilirler. Diğer türlerden farklı olarak key ve value yani anahtar ve değer sistemi ile çalışırlar. Index numaralarından ziyade değerlere anahtarlar yardımı ile erişiriz."
    },
    {
      "metadata": {
        "trusted": true,
        "_uuid": "dcf813965ae71a199996d9d3a837595d620913e1"
      },
      "cell_type": "code",
      "source": "sözlük = {\n    \"Isim\": \"Otostopçunun Galaksi Rehberi\",\n    \"Yazar\": \"Douglas Adams\",\n    \"Dil\": \"Türkçe\"\n}\nprint(sözlük[\"Dil\"])",
      "execution_count": 35,
      "outputs": [
        {
          "output_type": "stream",
          "text": "Türkçe\n",
          "name": "stdout"
        }
      ]
    },
    {
      "metadata": {
        "_uuid": "441673233d99f176c635c957a247a8bd0f83322b"
      },
      "cell_type": "markdown",
      "source": "Bir değeri değiştirmek istediğimizde yine anahtar ile erişip değiştirebiliriz."
    },
    {
      "metadata": {
        "trusted": true,
        "_uuid": "3290aa9a93525325b7dfade7a77d292a0ade6b26"
      },
      "cell_type": "code",
      "source": "sözlük[\"Dil\"] = \"Almanca\"\nprint(sözlük)",
      "execution_count": 36,
      "outputs": [
        {
          "output_type": "stream",
          "text": "{'Isim': 'Otostopçunun Galaksi Rehberi', 'Yazar': 'Douglas Adams', 'Dil': 'Almanca'}\n",
          "name": "stdout"
        }
      ]
    },
    {
      "metadata": {
        "_uuid": "9865e02eeda256983f21a2dea2a44ecad8e04581"
      },
      "cell_type": "markdown",
      "source": "Yeni bir eleman eklemek için yeni bir anahtar kullanabiliriz."
    },
    {
      "metadata": {
        "trusted": true,
        "_uuid": "1c4050d922e16c96ccc68708682f678ce03d504e"
      },
      "cell_type": "code",
      "source": "sözlük[\"Tür\"] = \"Bilim Kurgu\"\nprint(sözlük)",
      "execution_count": 37,
      "outputs": [
        {
          "output_type": "stream",
          "text": "{'Isim': 'Otostopçunun Galaksi Rehberi', 'Yazar': 'Douglas Adams', 'Dil': 'Almanca', 'Tür': 'Bilim Kurgu'}\n",
          "name": "stdout"
        }
      ]
    },
    {
      "metadata": {
        "_uuid": "24f7ebeabbf871e403718ad1e255e103d8d61763"
      },
      "cell_type": "markdown",
      "source": "## **4-Şartlı Yapılar** [^](#0) <a id=\"16\"></a> <br>\nDaha önce operatörler konusunda aritmetik operatörler dışında kalan diğer operatörler bize şartlı ifadeler yani if else bölümünde yaracak demiştim. Bu operatörler sadece **True** ya da **False** döndürüyordu.\n\n### **a) If Else Yapısı** [^](#0) <a id=\"17\"></a> <br>\nPython ya da diğer dillerde sıklıkla kullanılan bu yapı sayesinde belirli durumlara göre belirli kodları çalıştırabiliyoruz. Mesela elinizde bir yağmur sensörü var ve kod içerisinde bulunan **yağmur** isimli bir değişkeni yağmur yağıyorsa 1 yağmıyorsa 0 yapıyor. Yağmur yağdığında **perde** değişkenini 1 ve **lamba** değişkenini \"Yarım güç\" yapmak istediğinizi farz edelim. İşte bu durumlar için if yapısı imdadımıza yetişiyor."
    },
    {
      "metadata": {
        "trusted": true,
        "_uuid": "d8f7b3b62dcaf8df2ecadbb580cb55699d5de60a"
      },
      "cell_type": "code",
      "source": "yağmur = 0\n\nif (yağmur == 1):\n    perde = 1\n    lamba = \"Yarım güç\"\n    print(\"Yağmur yağıyor\")\n    \nelse:\n    print(\"Yağmur yağmıyor\")",
      "execution_count": 38,
      "outputs": [
        {
          "output_type": "stream",
          "text": "Yağmur yağmıyor\n",
          "name": "stdout"
        }
      ]
    },
    {
      "metadata": {
        "_uuid": "68c4baf31794eac231f13731f3f782b455fffe61"
      },
      "cell_type": "markdown",
      "source": "Yukarıda gördüğünüz yapıda iki adet kod blopu bulunmakta. Python'da blokları ifade etmek için **indent** ismi verilen boşluklardan ve **:**' dan yararlanıyoruz. **:** ile blokların başlangıcını ifade ediyoruz. Arka arkaya gelen satırların başlarında aynı miktarda boşluk varsa aynı blok içerisinde oluyorlar ta ki bir sonraki satırın boşluk sayısı değişene kadar. Yukarıda ilk blok üç ikinci blok ise tek satırdan oluşuyor.\n\nEğer if içine yazdığımız şart sonucunda **True** oluyor ise o blok çalıştırılıyor. Eğer blok **False** ve else ifadesi varsa else ifadesinin bloğu çalıştırılıyor. else ifadesi yoksa hiç bir kod çalıştırılmadan geçiliyor.\n\nDiğer operatörleri kullanarak bir kaç örnek daha yapalım.\n\nBu sefer **and** ifadesini kullanarak iki ifadeyi birleştirelim. Ancak mantık tablosuna bir göz atmakta fayda var. Unutmadan **True** yerine **1** ve **False** yerine **0** kullanılmış.\n\n| A | B | A and B |\n|---|---|---------|\n| 0 | 0 | 0       |\n| 0 | 1 | 0       |\n| 1 | 0 | 0       |\n| 1 | 1 | 1       |\n\n| A | B | A or  B |\n|---|---|---------|\n| 0 | 0 | 0       |\n| 0 | 1 | 1       |\n| 1 | 0 | 1       |\n| 1 | 1 | 1       |\n\n| A | not A |\n|---|-------|\n| 0 | 1     |\n| 1 | 0     |"
    },
    {
      "metadata": {
        "trusted": true,
        "_uuid": "decca786969cafefafe8e38cac05a1564a908ec9"
      },
      "cell_type": "code",
      "source": "Elektrik = \"Yok\"\nBenzin = \"Var\"\n\nif Elektrik == \"Yok\" and Benzin == \"Var\":\n    Jeneratörler = \"Açık\"\n    print(\"Jeneratörler çalıştırılıyor.\")",
      "execution_count": 39,
      "outputs": [
        {
          "output_type": "stream",
          "text": "Jeneratörler çalıştırılıyor.\n",
          "name": "stdout"
        }
      ]
    },
    {
      "metadata": {
        "_uuid": "000ba388916e40edbcfbd7a697fbbe35d9880e9b"
      },
      "cell_type": "markdown",
      "source": "Başka bir örnek yapalım. Bu sefer elif isimli yeni bir yapıyı kullanalım. elif yapısı ile arka arkaya üç ya da daha fazla şart yazabiliyoruz."
    },
    {
      "metadata": {
        "trusted": true,
        "_uuid": "d1b944a6082b06c2770e609756451e457c9b1ec5"
      },
      "cell_type": "code",
      "source": "çalışma_modu = \"Yarı Otomatik\"\n\nif çalışma_modu == \"Tam Otomatik\":\n    print(\"Sistem Tam Otomatik Modda\")\nelif çalışma_modu == \"Yarı Otomatik\":\n    print(\"Sistem Yarı Otomatik Modda\")\nelse:\n    print(\"Sistem Manuel Modda\")",
      "execution_count": 40,
      "outputs": [
        {
          "output_type": "stream",
          "text": "Sistem Yarı Otomatik Modda\n",
          "name": "stdout"
        }
      ]
    },
    {
      "metadata": {
        "_uuid": "a38659e4a7d6d464786ad91e9741580c1fee4e60"
      },
      "cell_type": "markdown",
      "source": "Peki aşağıda ki örnek ve yukarıda ki örnek sizce aynı mı?"
    },
    {
      "metadata": {
        "trusted": true,
        "_uuid": "a6a1557498f0fe9b640a924c590881ae5ceec374"
      },
      "cell_type": "code",
      "source": "çalışma_modu = \"Yarı Otomatik\"\n\nif çalışma_modu == \"Tam Otomatik\":\n    print(\"Sistem Tam Otomatik Modda\")\n    if çalışma_modu == \"Yarı Otomatik\":\n        print(\"Sistem Yarı Otomatik Modda\")\nelse:\n    print(\"Sistem Manuel Modda\")",
      "execution_count": 41,
      "outputs": [
        {
          "output_type": "stream",
          "text": "Sistem Manuel Modda\n",
          "name": "stdout"
        }
      ]
    },
    {
      "metadata": {
        "_uuid": "69b4a6b434efcea5804ca1747562c84af0aeef0d"
      },
      "cell_type": "markdown",
      "source": "Gördüğünüz gibi çıktılar farklı oldu. elif yapısı ile iç içe kullanılan if ifadeleri arasında fark var. Ancak elif kullanmak zoruda da değiliz."
    },
    {
      "metadata": {
        "trusted": true,
        "_uuid": "fe4db29e5561ffbe2ede7f8205f9c278294aa0af"
      },
      "cell_type": "code",
      "source": "çalışma_modu = \"Yarı Otomatik\"\n\nif \"Otomatik\" in çalışma_modu:\n    if çalışma_modu == \"Tam Otomatik\":\n        print(\"Sistem Tam Otomatik Modda\")\n    if çalışma_modu == \"Yarı Otomatik\":\n        print(\"Sistem Yarı Otomatik Modda\")\nelse:\n    print(\"Sistem Manuel Modda\")",
      "execution_count": 42,
      "outputs": [
        {
          "output_type": "stream",
          "text": "Sistem Yarı Otomatik Modda\n",
          "name": "stdout"
        }
      ]
    },
    {
      "metadata": {
        "_uuid": "285a07c2a4eee91d452029a67ce10e8fb9c0be14"
      },
      "cell_type": "markdown",
      "source": "Gördüğünüz gibi bu şekilde de sorunu çözmüş olduk.\n\n## **5-Döngüler** [^](#0) <a id=\"18\"></a> <br>\nŞartlı yapılar konusundan sonra en önemli konulardan biride döngüler oluyor. Python' da farkettiğiniz üzere bir kod bir kere çalıştırıldıktan sonra tekrar çalıştırılmıyor çünkü yorumlayıcı yukarıdan aşağıya doğru tek tek satırları yorumluyor. Peki eğer bir bloğu tekrar tekrar çalıştırmamız gerekirse ne yapacağız? elbette her seferinde aynı kodu tekrar tekrar yazmamıza gerek yok bu noktada döngüler yardımıza geliyor.\n\n### **a) While Dögüsü** [^](#0) <a id=\"19\"></a> <br>\nWhile döngüsü, dögüler arasından en basiti. If yapısında olduğu gibi kendine ait bir kod bloğuna ve bir ifadeye sahip. Her seferinde ifadenin **True** ya da **False** olmasına bakıyor ve eğer **True** ise kendi kod bloğunu tekrar çalıştırıyor. Kod bloğu bitince While tekrar ifadeye bakıyor ve bu döngü sonsuza kadar gidiyor ta ki bir şekilde ifade **False** olana kadar. İfade **False** olduğunda ise döngü duruyor ve kod While bloğunun altından devam ediyor."
    },
    {
      "metadata": {
        "trusted": true,
        "_uuid": "a9d16446f633e8de3c4eaaec3a1f9b51990c490f"
      },
      "cell_type": "code",
      "source": "sayaç = 0\n\nwhile (sayaç < 3):\n    print(sayaç)\n    sayaç = sayaç + 1",
      "execution_count": 43,
      "outputs": [
        {
          "output_type": "stream",
          "text": "0\n1\n2\n",
          "name": "stdout"
        }
      ]
    },
    {
      "metadata": {
        "_uuid": "214454fa07b8c1377e12edce9699a5d7f55442a6"
      },
      "cell_type": "markdown",
      "source": "Yukarıda da görüldüğü üzere *print* komutu üç defa çalışmış oldu.\n\nPeki sizce altta ki kod ne işe yarıyor tahmin edebilir misiniz?"
    },
    {
      "metadata": {
        "trusted": true,
        "_uuid": "7de121ee48d55dd6bdee6072b3049d7f9e0f0f3d"
      },
      "cell_type": "code",
      "source": "sayaç = 0\n\nwhile sayaç < 10:\n    if sayaç % 2 == 0:\n        print(sayaç)\n    sayaç = sayaç + 1",
      "execution_count": 44,
      "outputs": [
        {
          "output_type": "stream",
          "text": "0\n2\n4\n6\n8\n",
          "name": "stdout"
        }
      ]
    },
    {
      "metadata": {
        "_uuid": "5d8280453ae65d9713ceb84370d6345d5bfba9e0"
      },
      "cell_type": "markdown",
      "source": "Evet 0'dan 10'a kadar olan çift sayıları bastıran bir kod yazdık. Eğer sayaç'ı arttırmasaydık döngü sonsuza kadar çalışacaktı çünkü hiç bir zaman *sayaç < 10* **False** olmayacaktı.\n\n### **b) For Dögüsü** [^](#0) <a id=\"20\"></a> <br>\nWhile döngüsünden farklı olarak For döngüsünde sayaç kısmını manuel olarak arttırmamız gerekmiyor. Bu özelliği ile diğer dillerde ki For döngülerine benziyor olsada Python'da ki For döngüsünün olaya yaklaşım tarzı biraz farklı. Python'da For döngülerinin asıl amacı bir obje üzerinde tek tek gezinmek. Biz bu özelliği manipule ederek istediğimiz sayıda tekrar eden döngüler oluşturabiliyoruz. Örneğin amacımız döngünün 10 kez dönmesi ise 10 elemana sahip bir liste oluşturuyoruz ve For ile liste üzerinde geziniyoruz böylece döngü 10 kez tekrar ediyor.\n\nPeki 10 elemanlı bir listeyi nasıl oluşturacağız? Bunun için tek tek listeye ekleme yapmamıza gerek yok onun yerine **range()** fonksiyonunu kullanacağız."
    },
    {
      "metadata": {
        "trusted": true,
        "_uuid": "3e3df90f4d0f13be91ff2424ac569c6c81af6aee"
      },
      "cell_type": "code",
      "source": "print(list(range(10)))",
      "execution_count": 45,
      "outputs": [
        {
          "output_type": "stream",
          "text": "[0, 1, 2, 3, 4, 5, 6, 7, 8, 9]\n",
          "name": "stdout"
        }
      ]
    },
    {
      "metadata": {
        "_uuid": "c41c1afaf918e35076b50ea290bf8a08ec7fc89d"
      },
      "cell_type": "markdown",
      "source": "Gördüğünüz gibi tek seferde 10 elamanlı bir liste oluşturduk. Peki neden **list()** fonksiyonunu kullandık? Normalde **range()** tek başına bir liste döndürmemekte ben görsel olarak görünmesi için onu listeye **list()** fonksiyonu yardımıyla çevirdim.Peki neder **range()** liste döndürmüyor da obje döndürüyor? Bunun sebebi performans ile ilgili."
    },
    {
      "metadata": {
        "trusted": true,
        "_uuid": "fd7ac3c660709336cf08b98a71f735b9b18c08ee"
      },
      "cell_type": "code",
      "source": "print(range(10))\nprint(type(range(10)))",
      "execution_count": 46,
      "outputs": [
        {
          "output_type": "stream",
          "text": "range(0, 10)\n<class 'range'>\n",
          "name": "stdout"
        }
      ]
    },
    {
      "metadata": {
        "_uuid": "1db774485417e7af8c730b014020259fdda451d3"
      },
      "cell_type": "markdown",
      "source": "Gördüğünüz gibi range isimli özel bir obje. For döngüsüne geri döencek olursak iki range objesini ya da liste'yi kullanmak arasında bir fark yok."
    },
    {
      "metadata": {
        "trusted": true,
        "_uuid": "377b949d468c2ee313df1daf32f05e0bc04dff32"
      },
      "cell_type": "code",
      "source": "for i in range(3):\n    print(i)",
      "execution_count": 47,
      "outputs": [
        {
          "output_type": "stream",
          "text": "0\n1\n2\n",
          "name": "stdout"
        }
      ]
    },
    {
      "metadata": {
        "_uuid": "f1c77375370cb0356561d98aa63ba4f15bbe29c1"
      },
      "cell_type": "markdown",
      "source": "**range()** ayrıca başka parametreler de alabiliyor. Başlangıç sayısını, son sayıyı ve istersek her seferinde kaç sayı atlayacağını seçebiliyoruz. Örneğin 6' dan 14'e kadar 3er 3er giden bir liste yapmak için şunu yapıyoruz:"
    },
    {
      "metadata": {
        "trusted": true,
        "_uuid": "b330e2e13630414ff2510ae7a664ecc292488d66"
      },
      "cell_type": "code",
      "source": "print(list(range(6,14,3)))",
      "execution_count": 48,
      "outputs": [
        {
          "output_type": "stream",
          "text": "[6, 9, 12]\n",
          "name": "stdout"
        }
      ]
    },
    {
      "metadata": {
        "_uuid": "04b80fb9d7fbe92cbaeb5f73c3bc4735d4161619"
      },
      "cell_type": "markdown",
      "source": "Bu şekilde istediğimiz gibi örüntülü sayılar üretebiliriz. For ile kullanımına gelecek olursak:"
    },
    {
      "metadata": {
        "trusted": true,
        "_uuid": "eba0692c5e91dd84c93fc73ed06aa207635de557"
      },
      "cell_type": "code",
      "source": "liste = list(range(4))\n\nprint(liste)\n\nfor i in liste:\n    print(i)",
      "execution_count": 49,
      "outputs": [
        {
          "output_type": "stream",
          "text": "[0, 1, 2, 3]\n0\n1\n2\n3\n",
          "name": "stdout"
        }
      ]
    },
    {
      "metadata": {
        "_uuid": "b6204b82e1e3af1ec3d412b96213c00a7817b9a8"
      },
      "cell_type": "markdown",
      "source": "Genelde **range()** tek başına kullanılır ikinci örnekte ki gibi bir zahmete girilmez mantıklı da değil.\n\nAyrıca dikkat çekilmesi gereken bir konuda **i**' nin her döngüde listenin bir elemanı olması. **i** burada iterator'un kısaltması oluyor. Bir sonra ki örnekte fark daha belirgin olacak."
    },
    {
      "metadata": {
        "trusted": true,
        "_uuid": "0f75bab9d68abf89cec0f46a59393196e1e6777e"
      },
      "cell_type": "code",
      "source": "liste = [\"Uniform\", \"Delta\", \"Sierra\", \"Oscar\"]\n\nfor i in liste:\n    print(\"--> \"+i)",
      "execution_count": 50,
      "outputs": [
        {
          "output_type": "stream",
          "text": "--> Uniform\n--> Delta\n--> Sierra\n--> Oscar\n",
          "name": "stdout"
        }
      ]
    },
    {
      "metadata": {
        "_uuid": "2a9385e190abc8759346d125955e25e6d159c589"
      },
      "cell_type": "markdown",
      "source": "Peki böyle bir durumda biz index'i istiyorsak ne yapacağız. Yani **i**' nin listenin elemanı değilde index numarası olmasını istiyorsak? O zaman iki yöntem var. İlki **len()** kullanarak listesinin uzunluğunu almak ve bunu **range()**' e vererek sayılardan oluşan bir liste elde etmek."
    },
    {
      "metadata": {
        "trusted": true,
        "scrolled": true,
        "_uuid": "026c23cc8337850349f64fa017ec12dab0a62027"
      },
      "cell_type": "code",
      "source": "print(liste)\nprint(len(liste))\nprint(range(len(liste)))\nprint(\"-------------------\")\n\nfor i in range(len(liste)):\n    print(i)",
      "execution_count": 51,
      "outputs": [
        {
          "output_type": "stream",
          "text": "['Uniform', 'Delta', 'Sierra', 'Oscar']\n4\nrange(0, 4)\n-------------------\n0\n1\n2\n3\n",
          "name": "stdout"
        }
      ]
    },
    {
      "metadata": {
        "_uuid": "ebd2815a479fc83dab3ca3c135cb0bb2862946c3"
      },
      "cell_type": "markdown",
      "source": "Ya da **enumerate()** isimli özel fonksiyonu kullanmak. **enumerate**' in güzel yanı liste üzerinde For ile gezinirken index numarasını da alabiliyor olmamız."
    },
    {
      "metadata": {
        "trusted": true,
        "_uuid": "3c93c80ada27d9d7bdaaaaafbb7bfd03b452cd15"
      },
      "cell_type": "code",
      "source": "for index, i in enumerate(liste):\n    print(\"index =\", index, \"/ iterator =\", i)",
      "execution_count": 52,
      "outputs": [
        {
          "output_type": "stream",
          "text": "index = 0 / iterator = Uniform\nindex = 1 / iterator = Delta\nindex = 2 / iterator = Sierra\nindex = 3 / iterator = Oscar\n",
          "name": "stdout"
        }
      ]
    },
    {
      "metadata": {
        "_uuid": "ca426f6589c08bcd1f5bd2c1b8b30da1a5a4207f"
      },
      "cell_type": "markdown",
      "source": "Son olarak döngüleri yarıda kesmemize ya da atlamamıza yardımcı olan iki adet **statement**'ı göstermekte fayda var. Bunlardan biri **break** öbürü ise **continue**. Bu iki statement ile akışı kontrol edebiliyoruz."
    },
    {
      "metadata": {
        "trusted": true,
        "_uuid": "775d91eb0fc2562658e39bdf727a1f3842e4352c"
      },
      "cell_type": "code",
      "source": "for i in range(5):\n    if i == 3:\n        break\n    print(i)\n",
      "execution_count": 53,
      "outputs": [
        {
          "output_type": "stream",
          "text": "0\n1\n2\n",
          "name": "stdout"
        }
      ]
    },
    {
      "metadata": {
        "_uuid": "e6a145b0e1210695acb3216dd5c65828fb2c27e5"
      },
      "cell_type": "markdown",
      "source": "Örnekte görüldüğü üzere break yardımı ile döngüyü kırabiliyoruz. Continue ise döngüyü kırmıyor ancak döngüyü atlatıyor."
    },
    {
      "metadata": {
        "trusted": true,
        "_uuid": "e8b9b888749314d1058b14d88118e578b610c00b"
      },
      "cell_type": "code",
      "source": "for i in range(5):\n    if i == 3:\n        continue\n    print(i)\n",
      "execution_count": 54,
      "outputs": [
        {
          "output_type": "stream",
          "text": "0\n1\n2\n4\n",
          "name": "stdout"
        }
      ]
    },
    {
      "metadata": {
        "_uuid": "0b5c023381aee3b70f256dfb514baf41fa04f0b3"
      },
      "cell_type": "markdown",
      "source": "Burada 3 ekrana basılmadı.\n\nBöylece döngülerin sonuna gelmiş oluyoruz. Önemli bir kısmı tamamlamış bulunmaktayız.\n\n## **6-Fonksiyonlar** [^](#0) <a id=\"21\"></a> <br>\nFonksiyonlarda yine diğer bir çok konu gibi çok önemli konular arasında yer alıyor. Bunu şuana kadar bir çok fonksiyonu kullanmış olmamızdan da anlayabilirsiniz.\n\n### **a) Normal Fonksiyonlar** [^](#0) <a id=\"22\"></a> <br>\nTanım olarak fonksiyonlar aslında kod blokları oluyorlar. Örneğin sinüs fonksiyonunu bir kere yazıyorsunuz ve blok olarak bir yere koyuyorsunuz sonra onu istediğiniz kadar çağırıyorsunuz yani kullanıyorsunuz. Tabi tanımlarken belirtmemiz gereken bazı şeyler var. Matematikte'de olduğu gibi inputlar ve outputlar yani girdi ve çıktılar fonksiyonu anlamlı hale getiriyorlar ve bizimde onları kod yazarken tanımlamamız gerekiyor. Yine sinüs fonksiyonundan devam edersek girdi olarak bir açı vermeli ve çıktı olarak sayısal bir değer elde etmeliyiz.\n\nYazdığımız kodun hergan bir yerinde 30 derece için sinüs değerini bulmak istersek şayet yapmamız gerek şu oluyor. Bir değişken ismi yazıyoruz ve karşısına **=** koyup Sinüs fonksyionunun ismini yazıyoruz. İsmini yazdıktan sonra parantez açıp kapatıyor ve parantezler içerisine parametre olarak 30 derece yazıyoruz. Değişkenimiz fonksiyonun return değeri yani döndürdüğü değer yani 1/2 oluyor.\n\nŞimdi basit bir örnek yapalım. Verilen sayının karesini döndüren bir fonksiyon yazalım."
    },
    {
      "metadata": {
        "trusted": true,
        "_uuid": "8dccb51dce528005ced83f075b55dfeaf351f276"
      },
      "cell_type": "code",
      "source": "def kare_alan_fonksiyon(sayi):\n    karesi = sayi * sayi\n    return karesi\n",
      "execution_count": 55,
      "outputs": []
    },
    {
      "metadata": {
        "_uuid": "51c2e8ee581ef2ab8e2253af3f7f34a316d8a044"
      },
      "cell_type": "markdown",
      "source": "Örnekte görüldüğü üzere önce fonksiyon tanımladık. **def** özel kelimesi Python'da fonksiyon tanımlamak için kullanılıyor. Sonra parametreleri belirledik. Bu örnekte sadece bir tanesine ihtiyacımız vardı daha fazla istersek şayet **,** yardımı ile belirtebiliriz. Daha sonra fonksiyon bloğunu yazdık ve return bölümünü ifade ettik. Böylece fonksiyon tanımı tamamlanmış oldu.\n\nArtık istediğimiz zaman çağırabileceğimiz bir fonksiyona sahibiz. Şimdi onu çağıralım."
    },
    {
      "metadata": {
        "trusted": true,
        "_uuid": "67de7c0f0c5719821896b8def1113206949b8500"
      },
      "cell_type": "code",
      "source": "a = 7\nsonuç = kare_alan_fonksiyon(a)\n\nprint(sonuç)",
      "execution_count": 56,
      "outputs": [
        {
          "output_type": "stream",
          "text": "49\n",
          "name": "stdout"
        }
      ]
    },
    {
      "metadata": {
        "_uuid": "50d2553b31f4f50583f81b09cc9c8a527a7ff1d1"
      },
      "cell_type": "markdown",
      "source": "Yaptığımız şey bir değişkene fonksiyonun dönüş değerini atamak oldu. Fonksiyon a = 7 için çalıştı ve 49 sayısını döndürdü. Sonra bu sayıyı sonuç değişkenin içine koydu. Kare alma fonksiyonunu artık her yerden çağırabiliriz."
    },
    {
      "metadata": {
        "trusted": true,
        "_uuid": "1be35806c40667400cf8c5a00eae05486ccbd742"
      },
      "cell_type": "code",
      "source": "print(kare_alan_fonksiyon(11))",
      "execution_count": 57,
      "outputs": [
        {
          "output_type": "stream",
          "text": "121\n",
          "name": "stdout"
        }
      ]
    },
    {
      "metadata": {
        "_uuid": "1284d217e1e5138a9a3b54964e18c0410ed51747"
      },
      "cell_type": "markdown",
      "source": "Biraz daha karmaşık örnekler yapalım. Bu sefer verilen iki sayıyı bölen bir fonksiyon yazalım ve iki farklı değer döndürsün. İlk değer bölüm diğeri ise kalan olsun."
    },
    {
      "metadata": {
        "trusted": true,
        "_uuid": "448a15a5cc64505b3f4deb43b91ff9b5d9a3096d"
      },
      "cell_type": "code",
      "source": "def bölme(sayiA, sayiB):\n    \n    if sayiB == 0:\n        print(\"Sıfır ile bölünemez.\")\n        return 0, 0\n    \n    bölüm = int(sayiA / sayiB)\n    kalan = sayiA % sayiB\n    \n    return bölüm, kalan",
      "execution_count": 58,
      "outputs": []
    },
    {
      "metadata": {
        "_uuid": "63182dba353ce6bdc3fbc93079d042a82ab00546"
      },
      "cell_type": "markdown",
      "source": "İlk bakışta göze çarpan yazdığımız if şartı oluyor. Bölme işlemi yaptığımız için eğer bu duruma dikkat etmeseydik yorumlayıcı sayiB = 0 durumu için hata mesajı basacak ve çalışmayı durduracaktı. Onun yerine biz orada 0, 0 döndürerek fonksiyonu sonlandırıyoruz.\n\nBölüm'ü hesaplarken **int()** kullanmamızın sebebi ise bölümden sonra elde edeceğimiz sayı duruma göre **float** olma durumu yüzündendi. Bölümün ondalıklı bir sayı olmaması gerekiyor. **int()** kullanarak sayının sadece tam kısmını almış oluyoruz.\n\nŞimdi deneme yapma zamanı."
    },
    {
      "metadata": {
        "trusted": true,
        "_uuid": "1923d7b9d25436e9df60681e9292a332609cb405"
      },
      "cell_type": "code",
      "source": "print(bölme(17, 5))",
      "execution_count": 59,
      "outputs": [
        {
          "output_type": "stream",
          "text": "(3, 2)\n",
          "name": "stdout"
        }
      ]
    },
    {
      "metadata": {
        "_uuid": "294b29b8e6a8baf17197de76ae59afafb7df86db"
      },
      "cell_type": "markdown",
      "source": "Daha güzel bir çıktı yapalım."
    },
    {
      "metadata": {
        "trusted": true,
        "_uuid": "06cf1590a04b8d93f5870565cd5c10cfe75b133c"
      },
      "cell_type": "code",
      "source": "bölüm, kalan = bölme(21, 10)\nprint(\"Bölüm =\", bölüm, \"Kalan =\", kalan)",
      "execution_count": 60,
      "outputs": [
        {
          "output_type": "stream",
          "text": "Bölüm = 2 Kalan = 1\n",
          "name": "stdout"
        }
      ]
    },
    {
      "metadata": {
        "_uuid": "bd7f44a9d294cbf908a1fc19d69c38d45d54925c"
      },
      "cell_type": "markdown",
      "source": "if şartının çalışıp çalışmadığına bakalım."
    },
    {
      "metadata": {
        "trusted": true,
        "_uuid": "7e7f59b487f7f30efc6d2e2d97d46d0a874e9003"
      },
      "cell_type": "code",
      "source": "bölüm, kalan = bölme(6, 0)\nprint(\"Bölüm =\", bölüm, \"Kalan =\", kalan)",
      "execution_count": 61,
      "outputs": [
        {
          "output_type": "stream",
          "text": "Sıfır ile bölünemez.\nBölüm = 0 Kalan = 0\n",
          "name": "stdout"
        }
      ]
    },
    {
      "metadata": {
        "_uuid": "c287b4b66e11295095579c23a9cc9d72e19a9b13"
      },
      "cell_type": "markdown",
      "source": "### **b) Anonim(Lambda) Fonksiyonlar** [^](#0) <a id=\"23\"></a> <br>\nLambda fonksiyonların diğer fonksiyonlardan tek farkı tek satırda yazılabilne basit fonksiyonlar olması."
    },
    {
      "metadata": {
        "trusted": true,
        "_uuid": "a5bafe60699101d9ebfa0cf9c185e181595a4c7b"
      },
      "cell_type": "code",
      "source": "mod = lambda sayi1, sayi2 : sayi1 % sayi2\nprint(mod(11, 8))",
      "execution_count": 62,
      "outputs": [
        {
          "output_type": "stream",
          "text": "3\n",
          "name": "stdout"
        }
      ]
    },
    {
      "metadata": {
        "_uuid": "3cfb740511124821ab1cf3e369f571b3b6087bb5"
      },
      "cell_type": "markdown",
      "source": "Üstte ki fonksyon yardımı ile kalan bulabiliyoruz. Lambda fonksiyonları ile beraber son olarak önemli bir fonksiyon olan **map()**' den de bahsetmemiz gerekiyor. Elinizde çok büyük bir liste var ve her bir elemanına aynı fonkiyonu uygulamak istiyorsanız **map()** çok güzel iş görebiliyor. İki parametre alan map' ın ilk parametresi uygulanmak istenen fonksiyon iken ikinci parametresi listemiz oluyor. Sonra döndürdüğü map objesini **list** ile listeye çevirerek her elemanına fonksiyon uygulanmış listeyi elede edebiliyoruz.\n\nKarşılaştırma için öncelikle bir örnek yapalım. Elimizde bir liste olsun ve bu listede ki her elemanın karesini alıp tekrar liste oluşturalım:"
    },
    {
      "metadata": {
        "trusted": true,
        "_uuid": "c948c0dad0aee1ba75bd4d103799b3fe98b28895"
      },
      "cell_type": "code",
      "source": "liste = [1, 2, 3, 4, 5]\nkareler = []\nfor i in liste:\n    kareler.append(i**2)\n    \nprint(kareler)",
      "execution_count": 63,
      "outputs": [
        {
          "output_type": "stream",
          "text": "[1, 4, 9, 16, 25]\n",
          "name": "stdout"
        }
      ]
    },
    {
      "metadata": {
        "_uuid": "b4d122dbf8020d3676b9cb75c8a6581be92538a2"
      },
      "cell_type": "markdown",
      "source": "Şimdiye kadar öğrendiklerimiz ile bu şekilde bir döngü kodlayarak sorunu çözmüş olduk. Lambda fonkisyonlar ile **map()**' ı birleştirerek burda ki her şeyi tek satırda yazabiliriz."
    },
    {
      "metadata": {
        "trusted": true,
        "_uuid": "bea9bf22d6a0f078621f32b95e0ea6a9fff1c986"
      },
      "cell_type": "code",
      "source": "print(list(map(lambda x: x**2, list(range(1,6)))))",
      "execution_count": 64,
      "outputs": [
        {
          "output_type": "stream",
          "text": "[1, 4, 9, 16, 25]\n",
          "name": "stdout"
        }
      ]
    },
    {
      "metadata": {
        "_uuid": "294eb7746877dc9b32b46394abe4fa849fc4852e"
      },
      "cell_type": "markdown",
      "source": "Bu örnekte map'ın ilk parametresine direk fonksiyon kodlarını yazmış olduk. Lambda fonksiyon kullanmayıp normal bir fonksiyonun isminide yazabilirdik."
    },
    {
      "metadata": {
        "_uuid": "37499732dc88c69e63be44bf29effa47d280c7c3"
      },
      "cell_type": "markdown",
      "source": "## **7-Modüller** [^](#0) <a id=\"24\"></a> <br>\nPython ile sorun çözerken çoğu zaman bir çok özel algoritmaya ya da fonksyiona ihtiyaç duyarız. Örneğin sinüs fonksiyonu gibi. Bu fonksiyonların hepsini teker teker yazamayacağımız için yani zaten icat edilmiş bir şeyi tekrar icat etmemek ve zaman kazanmak için dışarıdan hazır python kodlarını kendi kodumuza dahil edebiliriz. Bu hazır kod ya da fonksyion paketlerine modül diyoruz. Paketler ise modüllerin bir araya gelmesi ile oluşuyorlar.\n\n### **a) Modüllerin Kullanımı** [^](#0) <a id=\"25\"></a> <br>\nElimizde mevcut olan modülleri kullanmak için yapmamız gereken tek şey **import** komutu ile onları kodlarımıza dahil etmek. Bu C++' da ki **include** komutuna benziyor.\n\nÖrneğin sinüs fonksiyonu Python' da [math](https://docs.python.org/3/library/math.html) paketi ile hazır geliyor. Dahil etmek için tek yapmamız gereken şey şu:"
    },
    {
      "metadata": {
        "trusted": true,
        "_uuid": "b3d2873428059a8a55a63b10786f1a6eb6dd15f2"
      },
      "cell_type": "code",
      "source": "import math\n\nprint(math.sin(math.radians(30)))",
      "execution_count": 65,
      "outputs": [
        {
          "output_type": "stream",
          "text": "0.49999999999999994\n",
          "name": "stdout"
        }
      ]
    },
    {
      "metadata": {
        "_uuid": "9ef3732b82ae910a9a977f66b6e05df2cfb18f62"
      },
      "cell_type": "markdown",
      "source": "Peki neden *radians* ' ı kullandık? Çünkü eğer dökümantasyonu okursak **math.sin()** fonksiyonu açı birimi olarak radyan kabul ediyor. Radyan'ı dereceye çevirmek için **radians()** fonksiyonunu kullandık.\n\n### **b) Modül Bulmak ve İndirmek** [^](#0) <a id=\"26\"></a> <br>\nPython' nun en güzel yanı internette her türlü sorunu çözmek için bir çok paketin bulunuyor olması. Bazıları indirdiğiniz python sürümüne ya da yardımcı sistemlere (Anaconda) gibi hazır gelirken bazılarını indirmemiz gerekiyor. Burada devreye [Pip](https://pypi.org/project/pip/) yani Package Installer for Python giriyor. Bu güzel araç sayesinde istediğimiz paketleri indirebiliyoruz. Peki *Pip* aracını nasıl kuracağız?\n\n**Linux Dağıtımlarda**\n* Debian Tabanlı Dağıtımlar\n```bash\nsudo apt update\nsudo apt install python3-pip\n```\n* Red Hat Tabanlı Dağıtımlar\n```bash\nsudo yum install python34-setuptools\nsudo easy_install pip\n```\n* Arch Tabanlı Dağıtımlar\n```bash\nsudo pacman -S python-pip\n```\n\n**Windows Sistemlerde**\n* Anaconda Prompt\n\nAnaconda indirdikten sonra başlat menüsünde **Anaconda Prompt** isimli CLI sistemin gelmiş olması gerekiyor. Bu terminal benzeri sistem üzerinde Pip yüklü halde gelmekte.\n\n* Anaconda Navigator\n\nAnaconda'nın GUI aracı olan Navigator üzerinden mouse kalvye kombinasyonu ile paket yükleyebiliriz. [Detaylı Anlatım](https://docs.anaconda.com/anaconda/navigator/tutorials/manage-packages/)\n\nPeki Pip aracını kurduk şimdi nasıl istediğimiz paketi yükleyeceğiz? Önce bir paket belirleyelim. Örneğin print komutunun çıktısını renkli bastırmak istiyor olalım. Önce küçük bir google araştırması yapıyoruz. Ben [şu](https://stackoverflow.com/a/45528334) sayfayı buldum ve burada **colorama** isimli bir yardımcı bir paket kullanılmış. Hemen coloroma isimli paketi [burada](https://pypi.org/project/colorama/) bularak nasıl kurulacağını ve kullanılacağını bulabiliyorum. İşte bu kadar daha bir çok paketi indirip kurabilir ve kullanabiliriz artık.\n\n## **8-Diğer Konular** [^](#0) <a id=\"27\"></a> <br>\nBu bölümde ML çalışırken işimize yarayacak diğer her şeyden bahsetmeyi planlıyorum.\n\n### **a) List Comprehensions** [^](#0) <a id=\"28\"></a> <br>\nList Comprehensions her ne kadar ihtiyacımız olmasada bazen çok fazla satırda yapabildiğimiz bir işi tek satırda yapmamıza olanak tanıyor. Adındanda anlaşılacağı üzerine bir listede bulunan her elemanın üzerinde teker teker işlem ve filtreleme yapmaya olanak tanır ve tüm bu çıktıları tekrar bir listeye koyar. Örneğin elimizde 1' den 100' e kadar olan sayılardan oluşan bir liste olsun. Bu listeden öyle bir liste oluşturalım ki bu liste yalnızca tek sayıların karelerinden oluşsun."
    },
    {
      "metadata": {
        "trusted": true,
        "_uuid": "f4dd3a83dc671408890c83aefda279fbd29db449"
      },
      "cell_type": "code",
      "source": "liste = list(range(100))\n\nistenen_liste = []\n\nfor i in liste:\n    if i % 2 != 0:\n        istenen_liste.append(i**2)\n\nprint(istenen_liste)",
      "execution_count": 66,
      "outputs": [
        {
          "output_type": "stream",
          "text": "[1, 9, 25, 49, 81, 121, 169, 225, 289, 361, 441, 529, 625, 729, 841, 961, 1089, 1225, 1369, 1521, 1681, 1849, 2025, 2209, 2401, 2601, 2809, 3025, 3249, 3481, 3721, 3969, 4225, 4489, 4761, 5041, 5329, 5625, 5929, 6241, 6561, 6889, 7225, 7569, 7921, 8281, 8649, 9025, 9409, 9801]\n",
          "name": "stdout"
        }
      ]
    },
    {
      "metadata": {
        "_uuid": "1982164c1ad48ba772e32d5932babcc046f1396a"
      },
      "cell_type": "markdown",
      "source": "Gördüğünüz gibi bir kaç satır kod yazmak zorunda kaldık. Peki list comprehensionlar ile?"
    },
    {
      "metadata": {
        "trusted": true,
        "_uuid": "ab583be35159bedc2576394a724e003a6490545a"
      },
      "cell_type": "code",
      "source": "liste = list(range(100))\n\nprint([i**2 for i in liste if i % 2 != 0])",
      "execution_count": 67,
      "outputs": [
        {
          "output_type": "stream",
          "text": "[1, 9, 25, 49, 81, 121, 169, 225, 289, 361, 441, 529, 625, 729, 841, 961, 1089, 1225, 1369, 1521, 1681, 1849, 2025, 2209, 2401, 2601, 2809, 3025, 3249, 3481, 3721, 3969, 4225, 4489, 4761, 5041, 5329, 5625, 5929, 6241, 6561, 6889, 7225, 7569, 7921, 8281, 8649, 9025, 9409, 9801]\n",
          "name": "stdout"
        }
      ]
    },
    {
      "metadata": {
        "_uuid": "9a0e8a4c5a348945dcf237535892d94da39767fd"
      },
      "cell_type": "markdown",
      "source": "Gördüğünüz gibi tek satır ile problemi çözdük. List comprehension' lar tanımlanırken iki köşeli parantez arasında tanımlanır tıpkı liste gib ve sonuç olarak bir liste döndürürler. Sağ tarafta for döngüsü ile gezilir ve en sağda ki **if** yardımıyla sonuçlar filtrelenir. Döngünün sol tarafında yani en sol tarafta ise filtrelen sonuç yani **i** üzerine uygulanmak istenen işlem yazılır.\n\n### **b) OS Modülü** [^](#0) <a id=\"29\"></a> <br>\nOS modülü kısaca Python ile işletim sistemini kontrol etmeye olanak tanıyan bir modül olarak tanımlanabilir. Kaggle üzerinde bazen dosya ile işlem yapmamız gereken durumlar olur. Bu durumlarda çok işe yarayan bir modül'dür. Örneğin Windows CMD için **dir** ya da Unix terminali için **ls** mevcut dizinde ki dosya ve dizinleri listeler. OS ile bu komutu işletim sistemi üzerinde çalıştırabilir ve çıktılarını bir değişkene koyabiliriz. Tabi bu modülün kullanımı bazı güvenlik açıkları doğurabilir özellikle web üzerinde çalışıyorken. Örneğin bu şekilde bir sisteme restart komutu verebiliriz. Kaggle sunucularına bunun yapılmasını istemediği için bazı önlemler alınmış durumda yani boşuna denemeyin :)\n\nPeki ne gibi şeyleri kullanabiliriz?\n\n**os.listdir()** ile parametre olarak verdiğimiz dizinde ki dosyaları görebiliriz."
    },
    {
      "metadata": {
        "trusted": true,
        "_uuid": "4dcfafab70d2948414da6a16ce6f6480d1c2e64b"
      },
      "cell_type": "code",
      "source": "import os\n\nos.listdir(\"../input/\") ",
      "execution_count": 68,
      "outputs": [
        {
          "output_type": "execute_result",
          "execution_count": 68,
          "data": {
            "text/plain": "['heart.csv']"
          },
          "metadata": {}
        }
      ]
    },
    {
      "metadata": {
        "_uuid": "34458973ba0d238b008cbf17e72b31e26724b145"
      },
      "cell_type": "markdown",
      "source": "**os.mkdir** ile dizin oluşturabiliriz."
    },
    {
      "metadata": {
        "trusted": true,
        "_uuid": "39f131131f06c84223531674903145534fd2dee6"
      },
      "cell_type": "code",
      "source": "os.mkdir(\"./test\")\nos.listdir(\".\")",
      "execution_count": 69,
      "outputs": [
        {
          "output_type": "execute_result",
          "execution_count": 69,
          "data": {
            "text/plain": "['test', '.ipynb_checkpoints', '__notebook_source__.ipynb']"
          },
          "metadata": {}
        }
      ]
    },
    {
      "metadata": {
        "_uuid": "77703cd4c1fac809d4b42ad1cd9698e5975066a7"
      },
      "cell_type": "markdown",
      "source": "### **Şimdilik bu kadar. Yorumlarınıza göre eklemeler yapacağım. Teşekkürler...**"
    }
  ],
  "metadata": {
    "kernelspec": {
      "display_name": "Python 3",
      "language": "python",
      "name": "python3"
    },
    "language_info": {
      "name": "python",
      "version": "3.6.6",
      "mimetype": "text/x-python",
      "codemirror_mode": {
        "name": "ipython",
        "version": 3
      },
      "pygments_lexer": "ipython3",
      "nbconvert_exporter": "python",
      "file_extension": ".py"
    }
  },
  "nbformat": 4,
  "nbformat_minor": 1
}